{
  "nbformat": 4,
  "nbformat_minor": 0,
  "metadata": {
    "colab": {
      "name": "pytorch-text-classification.ipynb",
      "provenance": [],
      "private_outputs": true,
      "collapsed_sections": [],
      "include_colab_link": true
    },
    "kernelspec": {
      "name": "python3",
      "display_name": "Python 3"
    },
    "accelerator": "GPU"
  },
  "cells": [
    {
      "cell_type": "markdown",
      "metadata": {
        "id": "view-in-github",
        "colab_type": "text"
      },
      "source": [
        "<a href=\"https://colab.research.google.com/github/aravindh1293/beginners-pytorch-deep-learning/blob/master/pytorch_text_classification.ipynb\" target=\"_parent\"><img src=\"https://colab.research.google.com/assets/colab-badge.svg\" alt=\"Open In Colab\"/></a>"
      ]
    },
    {
      "cell_type": "code",
      "metadata": {
        "id": "Vd3vpbMr8zkx",
        "colab_type": "code",
        "colab": {}
      },
      "source": [
        "!wget https://ai.stanford.edu/~amaas/data/sentiment/aclImdb_v1.tar.gz\n",
        "!tar -xvf /content/aclImdb_v1.tar.gz"
      ],
      "execution_count": 0,
      "outputs": []
    },
    {
      "cell_type": "code",
      "metadata": {
        "id": "AJNj4XT98pc8",
        "colab_type": "code",
        "colab": {}
      },
      "source": [
        "import torch\n",
        "from torch.utils.data import DataLoader, Dataset\n",
        "\n",
        "from tqdm import tqdm\n",
        "import glob\n",
        "import os\n",
        "import pandas as pd\n",
        "import numpy as np"
      ],
      "execution_count": 0,
      "outputs": []
    },
    {
      "cell_type": "code",
      "metadata": {
        "id": "k29WtDSg9eha",
        "colab_type": "code",
        "colab": {}
      },
      "source": [
        "pos_path = \"/content/aclImdb/train/pos\"\n",
        "neg_path = \"/content/aclImdb/train/neg\""
      ],
      "execution_count": 0,
      "outputs": []
    },
    {
      "cell_type": "code",
      "metadata": {
        "id": "tC4-zMQz-vJ9",
        "colab_type": "code",
        "colab": {}
      },
      "source": [
        "pos_files = glob.glob(pos_path + \"/*.txt\")\n",
        "neg_files = glob.glob(neg_path + \"/*.txt\")"
      ],
      "execution_count": 0,
      "outputs": []
    },
    {
      "cell_type": "code",
      "metadata": {
        "id": "MjTsEDQF_uY-",
        "colab_type": "code",
        "colab": {}
      },
      "source": [
        "reviews = []\n",
        "labels = []\n",
        "\n",
        "for doc in pos_files:\n",
        "  with open(doc, \"r\") as f:\n",
        "    content = f.read()\n",
        "  reviews.append(content)\n",
        "  labels.append(1)\n",
        "\n",
        "for doc in neg_files:\n",
        "  with open(doc, \"r\") as f:\n",
        "    content = f.read()\n",
        "  reviews.append(content)\n",
        "  labels.append(0)"
      ],
      "execution_count": 0,
      "outputs": []
    },
    {
      "cell_type": "code",
      "metadata": {
        "id": "WEvLgrsYBJCN",
        "colab_type": "code",
        "colab": {}
      },
      "source": [
        "imdb_raw = pd.DataFrame([reviews, labels]).T.sample(frac=1).reset_index(drop=True)\n",
        "imdb_raw.columns = [\"reviews\", \"targets\"]\n",
        "imdb_raw.head()"
      ],
      "execution_count": 0,
      "outputs": []
    },
    {
      "cell_type": "code",
      "metadata": {
        "id": "vRsRggp_By81",
        "colab_type": "code",
        "colab": {}
      },
      "source": [
        "print(imdb_raw.info())\n",
        "print(\"value_counts : \",imdb_raw['targets'].value_counts())"
      ],
      "execution_count": 0,
      "outputs": []
    },
    {
      "cell_type": "code",
      "metadata": {
        "id": "0XLitDmtCD-M",
        "colab_type": "code",
        "colab": {}
      },
      "source": [
        "imdb_raw.targets.value_counts().plot(\"bar\")"
      ],
      "execution_count": 0,
      "outputs": []
    },
    {
      "cell_type": "code",
      "metadata": {
        "id": "lyP4xTB2Ccaj",
        "colab_type": "code",
        "colab": {}
      },
      "source": [
        "def tokenize(review):\n",
        "  return review.lower().split(\" \")"
      ],
      "execution_count": 0,
      "outputs": []
    },
    {
      "cell_type": "code",
      "metadata": {
        "id": "3go071VKCotg",
        "colab_type": "code",
        "colab": {}
      },
      "source": [
        "tokenized_review = []\n",
        "for rev in imdb_raw.reviews.values:\n",
        "  tokenized = tokenize(rev)\n",
        "  tokenized_review.append(tokenized)"
      ],
      "execution_count": 0,
      "outputs": []
    },
    {
      "cell_type": "code",
      "metadata": {
        "id": "FWwFuwH-C-WR",
        "colab_type": "code",
        "colab": {}
      },
      "source": [
        "imdb_raw['tokenized_review'] = tokenized_review"
      ],
      "execution_count": 0,
      "outputs": []
    },
    {
      "cell_type": "code",
      "metadata": {
        "id": "-29ESpx-DF5F",
        "colab_type": "code",
        "colab": {}
      },
      "source": [
        "imdb_raw"
      ],
      "execution_count": 0,
      "outputs": []
    },
    {
      "cell_type": "code",
      "metadata": {
        "id": "ej9G-BWIDG5A",
        "colab_type": "code",
        "colab": {}
      },
      "source": [
        "# clean punctuations from reviews\n",
        "from string import punctuation\n",
        "\n",
        "cleaned_rev = []\n",
        "for rev in imdb_raw.tokenized_review.values:\n",
        "  cleaned_words = []\n",
        "  for word in rev:\n",
        "    if word not in punctuation:\n",
        "      cleaned_words.append(word)\n",
        "  cleaned_rev.append(cleaned_words)"
      ],
      "execution_count": 0,
      "outputs": []
    },
    {
      "cell_type": "code",
      "metadata": {
        "id": "zIDjnUY0EBft",
        "colab_type": "code",
        "colab": {}
      },
      "source": [
        "imdb_raw['cleaned_reviews'] = cleaned_rev"
      ],
      "execution_count": 0,
      "outputs": []
    },
    {
      "cell_type": "code",
      "metadata": {
        "id": "Bwyc0b-xER21",
        "colab_type": "code",
        "colab": {}
      },
      "source": [
        "imdb_raw"
      ],
      "execution_count": 0,
      "outputs": []
    },
    {
      "cell_type": "code",
      "metadata": {
        "id": "4cVSNqwbETo3",
        "colab_type": "code",
        "colab": {}
      },
      "source": [
        "# create vocab with most common words\n",
        "\n",
        "from collections import Counter"
      ],
      "execution_count": 0,
      "outputs": []
    },
    {
      "cell_type": "code",
      "metadata": {
        "id": "D7PR9w0ZEviQ",
        "colab_type": "code",
        "colab": {}
      },
      "source": [
        "all_word_list = []\n",
        "unique_words = set()\n",
        "\n",
        "for rev in imdb_raw.cleaned_reviews.values:\n",
        "  for word in rev:\n",
        "    all_word_list.append(word)\n",
        "    unique_words.add(word)"
      ],
      "execution_count": 0,
      "outputs": []
    },
    {
      "cell_type": "code",
      "metadata": {
        "id": "QOblofOeE0DM",
        "colab_type": "code",
        "colab": {}
      },
      "source": [
        "len(unique_words)"
      ],
      "execution_count": 0,
      "outputs": []
    },
    {
      "cell_type": "code",
      "metadata": {
        "id": "bJsOBefLFVL6",
        "colab_type": "code",
        "colab": {}
      },
      "source": [
        "word_counts = Counter(all_word_list)\n",
        "vocab = sorted(word_counts, key=word_counts.get, reverse=True)"
      ],
      "execution_count": 0,
      "outputs": []
    },
    {
      "cell_type": "code",
      "metadata": {
        "id": "jkGRYeJcFfpA",
        "colab_type": "code",
        "colab": {}
      },
      "source": [
        "vocab_to_int = {word : ii for ii, word in enumerate(vocab)}"
      ],
      "execution_count": 0,
      "outputs": []
    },
    {
      "cell_type": "code",
      "metadata": {
        "id": "pBzxWhEGFxm4",
        "colab_type": "code",
        "colab": {}
      },
      "source": [
        "review_ints = []\n",
        "\n",
        "for rev in imdb_raw.cleaned_reviews.values:\n",
        "  word2int = []\n",
        "  for word in rev:\n",
        "    num = vocab_to_int[word]\n",
        "    word2int.append(num)\n",
        "  review_ints.append(word2int)"
      ],
      "execution_count": 0,
      "outputs": []
    },
    {
      "cell_type": "code",
      "metadata": {
        "id": "d9UyaWKsI-E5",
        "colab_type": "code",
        "colab": {}
      },
      "source": [
        "imdb_raw['review_ints'] = review_ints"
      ],
      "execution_count": 0,
      "outputs": []
    },
    {
      "cell_type": "code",
      "metadata": {
        "id": "ULZtdBLcJ_LF",
        "colab_type": "code",
        "colab": {}
      },
      "source": [
        "imdb_raw.head()"
      ],
      "execution_count": 0,
      "outputs": []
    },
    {
      "cell_type": "code",
      "metadata": {
        "id": "WOCtECe4KAcw",
        "colab_type": "code",
        "colab": {}
      },
      "source": [
        "data = imdb_raw[[\"review_ints\", \"targets\"]]\n",
        "data.head()"
      ],
      "execution_count": 0,
      "outputs": []
    },
    {
      "cell_type": "code",
      "metadata": {
        "id": "b7ruu07cKHuo",
        "colab_type": "code",
        "colab": {}
      },
      "source": [
        "# truncate review to 200 words\n",
        "# or pad if review has less than 200 words\n",
        "truncated_rev = []\n",
        "for rev in data.review_ints.values:\n",
        "  if len(rev)>200:\n",
        "    trunc_rev = np.array(rev[:200])\n",
        "  else:\n",
        "    trunc_rev = np.zeros((200), dtype=int)\n",
        "    trunc_rev[-len(rev):] = rev\n",
        "  truncated_rev.append(trunc_rev)"
      ],
      "execution_count": 0,
      "outputs": []
    },
    {
      "cell_type": "code",
      "metadata": {
        "id": "YGutVWOhMGTG",
        "colab_type": "code",
        "colab": {}
      },
      "source": [
        "data['truncated_reviews'] = truncated_rev"
      ],
      "execution_count": 0,
      "outputs": []
    },
    {
      "cell_type": "code",
      "metadata": {
        "id": "7yXBPOvlP_zv",
        "colab_type": "code",
        "colab": {}
      },
      "source": [
        "data"
      ],
      "execution_count": 0,
      "outputs": []
    },
    {
      "cell_type": "code",
      "metadata": {
        "id": "EpeLccvMQAJK",
        "colab_type": "code",
        "colab": {}
      },
      "source": [
        "x = np.array(data['truncated_reviews'].values)\n",
        "y = np.array(data['targets'].values)"
      ],
      "execution_count": 0,
      "outputs": []
    },
    {
      "cell_type": "code",
      "metadata": {
        "id": "BT3yyWtOQT7U",
        "colab_type": "code",
        "colab": {}
      },
      "source": [
        "print(len(x), len(y))"
      ],
      "execution_count": 0,
      "outputs": []
    },
    {
      "cell_type": "code",
      "metadata": {
        "id": "KCs7ovygQbuC",
        "colab_type": "code",
        "colab": {}
      },
      "source": [
        "from sklearn.model_selection import train_test_split"
      ],
      "execution_count": 0,
      "outputs": []
    },
    {
      "cell_type": "code",
      "metadata": {
        "id": "iJbBCazSSZHy",
        "colab_type": "code",
        "colab": {}
      },
      "source": [
        "x_train, x_test, y_train, y_test = train_test_split(x, y, test_size=0.1, stratify=y, random_state=42)\n",
        "x_train, x_val, y_train, y_val = train_test_split(x_train, y_train, test_size=0.1, stratify=y_train, random_state=42)"
      ],
      "execution_count": 0,
      "outputs": []
    },
    {
      "cell_type": "code",
      "metadata": {
        "id": "Qc1OcdMUTF0a",
        "colab_type": "code",
        "colab": {}
      },
      "source": [
        "print(x_train.shape)\n",
        "print(y_train.shape)\n",
        "\n",
        "print(x_test.shape)\n",
        "print(y_test.shape)\n",
        "\n",
        "print(x_val.shape)\n",
        "print(y_val.shape)"
      ],
      "execution_count": 0,
      "outputs": []
    },
    {
      "cell_type": "code",
      "metadata": {
        "id": "qTqw1Ph6ZnV-",
        "colab_type": "code",
        "colab": {}
      },
      "source": [
        "type(np.array(y_train[5]))"
      ],
      "execution_count": 0,
      "outputs": []
    },
    {
      "cell_type": "code",
      "metadata": {
        "id": "eaOUONmnTS4H",
        "colab_type": "code",
        "colab": {}
      },
      "source": [
        "class ImdbDataset(Dataset):\n",
        "  def __init__(self, x, y):\n",
        "    self.x = x\n",
        "    self.y = y\n",
        "\n",
        "  def __len__(self):\n",
        "    return len(self.x)\n",
        "\n",
        "  def __getitem__(self, idx):\n",
        "    x = torch.from_numpy((self.x[idx]))\n",
        "    y = torch.from_numpy(np.array(self.y[idx]))\n",
        "    return x,y"
      ],
      "execution_count": 0,
      "outputs": []
    },
    {
      "cell_type": "code",
      "metadata": {
        "id": "9mi4XyaEU-jf",
        "colab_type": "code",
        "colab": {}
      },
      "source": [
        "train_dataset = ImdbDataset(x_train, y_train)\n",
        "valid_dataset = ImdbDataset(x_val, y_val)\n",
        "test_dataset = ImdbDataset(x_test, y_test)"
      ],
      "execution_count": 0,
      "outputs": []
    },
    {
      "cell_type": "code",
      "metadata": {
        "id": "dyCTRn0CVlu7",
        "colab_type": "code",
        "colab": {}
      },
      "source": [
        "print(len(train_dataset))\n",
        "print(len(valid_dataset))\n",
        "print(len(test_dataset))"
      ],
      "execution_count": 0,
      "outputs": []
    },
    {
      "cell_type": "code",
      "metadata": {
        "id": "4Kiw0VF5YWpt",
        "colab_type": "code",
        "colab": {}
      },
      "source": [
        "train_loader = DataLoader(train_dataset, batch_size=2000, shuffle=True, num_workers=4)\n",
        "valid_loader = DataLoader(valid_dataset, batch_size=500, shuffle=True, num_workers=4)\n",
        "test_loader = DataLoader(test_dataset, batch_size=500, shuffle=False, num_workers=4)"
      ],
      "execution_count": 0,
      "outputs": []
    },
    {
      "cell_type": "code",
      "metadata": {
        "id": "pzhsxtawfr9T",
        "colab_type": "code",
        "colab": {}
      },
      "source": [
        "import torch.nn as nn"
      ],
      "execution_count": 0,
      "outputs": []
    },
    {
      "cell_type": "code",
      "metadata": {
        "id": "MOshtIuLfoAu",
        "colab_type": "code",
        "colab": {}
      },
      "source": [
        "vocab_size = len(vocab_to_int) + 1\n",
        "model = nn.Sequential(\n",
        "    nn.Embedding(num_embeddings=vocab_size, embedding_dim=120),\n",
        "    nn.ReLU(nn.LSTM(120, 256, 8)),\n",
        "    nn.Flatten(start_dim=1),\n",
        "    nn.Linear(in_features=24000 ,out_features = 1),\n",
        "    nn.Sigmoid()\n",
        ")"
      ],
      "execution_count": 0,
      "outputs": []
    },
    {
      "cell_type": "code",
      "metadata": {
        "id": "gx20LK-8g1gt",
        "colab_type": "code",
        "colab": {}
      },
      "source": [
        "model"
      ],
      "execution_count": 0,
      "outputs": []
    },
    {
      "cell_type": "code",
      "metadata": {
        "id": "UJ2IzQTbqpGn",
        "colab_type": "code",
        "colab": {}
      },
      "source": [
        "opt = torch.optim.Adam(model.parameters(), lr=0.001)\n",
        "criterion = nn.BCELoss()"
      ],
      "execution_count": 0,
      "outputs": []
    },
    {
      "cell_type": "code",
      "metadata": {
        "id": "x7fy8NGf3WHT",
        "colab_type": "code",
        "colab": {}
      },
      "source": [
        "DEVICE = \"cuda\" if torch.cuda.is_available() else \"cpu\""
      ],
      "execution_count": 0,
      "outputs": []
    },
    {
      "cell_type": "code",
      "metadata": {
        "id": "VEn0skgyb_Xu",
        "colab_type": "code",
        "colab": {}
      },
      "source": [
        "EPOCHS = 50\n",
        "\n",
        "model = model.to(DEVICE)\n",
        "for epoch in range(EPOCHS):\n",
        "  total_loss = 0.0\n",
        "  counter = 0\n",
        "  model.train()\n",
        "  for ii, data in enumerate(train_loader):\n",
        "    counter += 1\n",
        "    inp, target = data\n",
        "    # target = target.unsqueeze(0)\n",
        "    # print(inp.size(), target.size())\n",
        "    # print(ii, target)\n",
        "    inp = inp.to(DEVICE)\n",
        "    target = target.to(DEVICE)\n",
        "\n",
        "    opt.zero_grad()\n",
        "    out = model(inp)\n",
        "    # print(out.size())\n",
        "    # print(ii, out.squeeze())\n",
        "    loss = criterion(out.squeeze(), target.float())\n",
        "    loss.backward()\n",
        "    total_loss += loss.item()\n",
        "    opt.step()\n",
        "  print(\"train loss : epoch-\",epoch, \"-\",  total_loss/counter)"
      ],
      "execution_count": 0,
      "outputs": []
    },
    {
      "cell_type": "code",
      "metadata": {
        "id": "6Cu54nSow-0q",
        "colab_type": "code",
        "colab": {}
      },
      "source": [
        "EPOCHS = 50\n",
        "\n",
        "model = model.to(DEVICE)\n",
        "\n",
        "total_loss = 0.0\n",
        "counter = 0\n",
        "model.eval()\n",
        "for ii, data in enumerate(test_loader):\n",
        "  counter += 1\n",
        "  inp, target = data\n",
        "  # target = target.unsqueeze(0)\n",
        "  # print(inp.size(), target.size())\n",
        "  # print(ii, target)\n",
        "  inp = inp.to(DEVICE)\n",
        "  target = target.to(DEVICE)\n",
        "\n",
        "  out = model(inp)\n",
        "  # print(out.size())\n",
        "  # print(ii, out.squeeze())\n",
        "  loss = criterion(out.squeeze(), target.float())\n",
        "  total_loss += loss.item()\n",
        "print(\"test loss : epoch-\", total_loss/counter)"
      ],
      "execution_count": 0,
      "outputs": []
    },
    {
      "cell_type": "code",
      "metadata": {
        "id": "HIlWYOGZ5Nje",
        "colab_type": "code",
        "colab": {}
      },
      "source": [
        "EPOCHS = 50\n",
        "\n",
        "model = model.to(DEVICE)\n",
        "\n",
        "total_loss = 0.0\n",
        "counter = 0\n",
        "model.eval()\n",
        "for ii, data in enumerate(valid_loader):\n",
        "  counter += 1\n",
        "  inp, target = data\n",
        "  # target = target.unsqueeze(0)\n",
        "  # print(inp.size(), target.size())\n",
        "  # print(ii, target)\n",
        "  inp = inp.to(DEVICE)\n",
        "  target = target.to(DEVICE)\n",
        "\n",
        "  out = model(inp)\n",
        "  # print(out.size())\n",
        "  # print(ii, out.squeeze())\n",
        "  loss = criterion(out.squeeze(), target.float())\n",
        "  total_loss += loss.item()\n",
        "print(\"test loss : \", total_loss/counter)"
      ],
      "execution_count": 0,
      "outputs": []
    }
  ]
}